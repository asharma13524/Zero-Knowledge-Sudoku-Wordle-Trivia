{
 "cells": [
  {
   "cell_type": "code",
   "execution_count": 18,
   "metadata": {},
   "outputs": [
    {
     "name": "stdout",
     "output_type": "stream",
     "text": [
      "[9, 4, 7, 1, 3, 5, 2, 8, 6]\n",
      "[3, 5, 8, 4, 2, 6, 7, 1, 9]\n",
      "[1, 6, 2, 8, 9, 7, 3, 4, 5]\n",
      "[6, 1, 4, 5, 7, 8, 9, 3, 2]\n",
      "[2, 8, 9, 3, 6, 4, 1, 5, 7]\n",
      "[7, 3, 5, 9, 1, 2, 8, 6, 4]\n",
      "[4, 2, 3, 6, 8, 9, 5, 7, 1]\n",
      "[8, 9, 6, 7, 5, 1, 4, 2, 3]\n",
      "[5, 7, 1, 2, 4, 3, 6, 9, 8]\n",
      "\n",
      "[0, 0, 0, 1, 3, 0, 2, 8, 0]\n",
      "[0, 0, 0, 0, 0, 6, 7, 0, 0]\n",
      "[0, 0, 2, 8, 9, 0, 0, 0, 5]\n",
      "[6, 0, 4, 5, 0, 0, 0, 0, 0]\n",
      "[0, 8, 0, 3, 0, 0, 0, 0, 0]\n",
      "[0, 3, 5, 0, 1, 0, 0, 6, 0]\n",
      "[4, 0, 0, 6, 0, 0, 0, 7, 0]\n",
      "[0, 0, 6, 0, 5, 1, 0, 0, 0]\n",
      "[5, 7, 0, 2, 0, 0, 6, 0, 8]\n"
     ]
    }
   ],
   "source": [
    "import requests\n",
    "import json\n",
    "from sudoku import *\n",
    "\n",
    "sudoku = generate_valid_sudoku()\n",
    "puzzle = generate_sudoku_puzzle(sudoku)\n",
    "for row in sudoku:\n",
    "    print(row)\n",
    "print()\n",
    "for row in puzzle:\n",
    "    print(row)"
   ]
  },
  {
   "cell_type": "code",
   "execution_count": 33,
   "metadata": {},
   "outputs": [],
   "source": [
    "sudoku[0][0] = 1"
   ]
  },
  {
   "cell_type": "code",
   "execution_count": 34,
   "metadata": {},
   "outputs": [
    {
     "data": {
      "text/plain": [
       "{'success': True,\n",
       " 'output': \"\\n📦 Creating execution transaction for 'sudoku.aleo'...\\n\\n✅ Successfully broadcast execution 'sudoku.aleo/solve_puzzle' to the http://localhost:3030/testnet3/transaction/broadcast.\\nat1v4smhteryq3ktfgfwh0cwrqa0uya08jec3mt96e0e7n9vrnyr5zsm5uf7m\\n\\n\"}"
      ]
     },
     "execution_count": 34,
     "metadata": {},
     "output_type": "execute_result"
    }
   ],
   "source": [
    "data = {\n",
    "    \"private_key\": \"APrivateKey1zkp8CWcAG1bFRLK7CcUs8NeK1ztU1Hc7NNqVmkXGWAX1dpS\",\n",
    "    \"puzzle\": puzzle,\n",
    "    \"solution\": sudoku\n",
    "}\n",
    "response = requests.post(\"http://127.0.0.1:8000/leo/sudoku\", json=data)\n",
    "response.json()\n"
   ]
  },
  {
   "cell_type": "code",
   "execution_count": 29,
   "metadata": {},
   "outputs": [],
   "source": [
    "response = requests.get(\"http://127.0.0.1:8000/leo/transaction/at1qpzjqmzddcnzd4fncm3dldh840f2flfvq64f89v06lc3cfdeks9snjwnjz\")\n",
    "with open(\"transaction.json\", \"w\") as f:\n",
    "    json.dump(response.json(), f, indent=4)"
   ]
  },
  {
   "cell_type": "code",
   "execution_count": 32,
   "metadata": {},
   "outputs": [],
   "source": [
    "data = {\n",
    "    \"ciphertext\": \"record1qz4xlq67pnwqnye29q4jxrtz80tyyutzj4psutq5evem3q8vzzhqgqgpqzd7nfdqfzgv9xu0tcyjhmqyr5psw4rpwrawanj6f2yhg4nejuasgqsxwdhkcan9vszsqqgqqyqqzprfdenx7tgrqyqsjprjdamnz5cqqyysym33qsqqqzgqqqpxuvsyqqqqjqqqqfhrxpqqqqysqqqzdc6qgqqqpyqqzqnwx5zqqqqfqqpsym3kqsqqqzgqqqpxudcyqqqqjqqzqfhrspqqqqysqzqzdcusgqqqpyqqqprjdamny5cqqyysym33qsqqqzgqqqpxuvsyqqqqjqqqqfhrxpqqqqysqqqzdc6qgqqqpyqqqqnwx5zqqqqfqqqqym3kqsqqqzgqqcpxudcyqqqqjqq8qfhrspqqqqysqqqzdcusgqqqpyqqqprjdamnx5cqqyysym33qsqqqzgqqqpxuvsyqqqqjqqqqfhrxpqqqqysqqszdc6qgqqqpyqqsqnwx5zqqqqfqqysym3kqsqqqzgqqqpxudcyqqqqjqqqqfhrspqqqqysqqqzdcusgqqqpyqq2prjdamng5cqqyysym33qsqqqzgqqcpxuvsyqqqqjqqqqfhrxpqqqqysqpqzdc6qgqqqpyqq2qnwx5zqqqqfqqqqym3kqsqqqzgqqqpxudcyqqqqjqqqqfhrspqqqqysqqqzdcusgqqqpyqqqprjdamn25cqqyysym33qsqqqzgqqqpxuvsyqqqqjqqgqfhrxpqqqqysqqqzdc6qgqqqpyqqxqnwx5zqqqqfqqqqym3kqsqqqzgqqqpxudcyqqqqjqqqqfhrspqqqqysqqqzdcusgqqqpyqqqprjdamnv5cqqyysym33qsqqqzgqqqpxuvsyqqqqjqqrqfhrxpqqqqysqpgzdc6qgqqqpyqqqqnwx5zqqqqfqqqsym3kqsqqqzgqqqpxudcyqqqqjqqqqfhrspqqqqysqpszdcusgqqqpyqqqprjdamnw5cqqyysym33qsqqqzgqqspxuvsyqqqqjqqqqfhrxpqqqqysqqqzdc6qgqqqpyqqvqnwx5zqqqqfqqqqym3kqsqqqzgqqqpxudcyqqqqjqqqqfhrspqqqqysqpczdcusgqqqpyqqqprjdamns5cqqyysym33qsqqqzgqqqpxuvsyqqqqjqqqqfhrxpqqqqysqpszdc6qgqqqpyqqqqnwx5zqqqqfqqzsym3kqsqqqzgqqypxudcyqqqqjqqqqfhrspqqqqysqqqzdcusgqqqpyqqqprjdamnj5cqqyysym33qsqqqzgqq5pxuvsyqqqqjqq8qfhrxpqqqqysqqqzdc6qgqqqpyqqyqnwx5zqqqqfqqqqym3kqsqqqzgqqqpxudcyqqqqjqqxqfhrspqqqqysqqqzdcusgqqqpyqqsey3k49t6p0yy5wgg99399uh92j386kq2cty2kyjcks5fhkpjdq2cre60k\",\n",
    "    \"view_key\": \"AViewKey1fUh2mtTu3HgURJ7wkjXceN3iPwHSukoDvXznPBCCfG4w\"\n",
    "}\n",
    "\n",
    "response = requests.post(\"http://127.0.0.1:8000/leo/decrypt/\",json=data)\n",
    "with open(\"record.json\", \"w\") as f:\n",
    "    json.dump(response.json(), f, indent=4)"
   ]
  }
 ],
 "metadata": {
  "kernelspec": {
   "display_name": ".env",
   "language": "python",
   "name": "python3"
  },
  "language_info": {
   "codemirror_mode": {
    "name": "ipython",
    "version": 3
   },
   "file_extension": ".py",
   "mimetype": "text/x-python",
   "name": "python",
   "nbconvert_exporter": "python",
   "pygments_lexer": "ipython3",
   "version": "3.9.16"
  },
  "orig_nbformat": 4
 },
 "nbformat": 4,
 "nbformat_minor": 2
}
