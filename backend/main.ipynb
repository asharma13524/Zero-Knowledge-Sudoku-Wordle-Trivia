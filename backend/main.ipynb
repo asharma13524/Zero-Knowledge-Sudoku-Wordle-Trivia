{
 "cells": [
  {
   "cell_type": "code",
   "execution_count": 1,
   "metadata": {},
   "outputs": [
    {
     "data": {
      "text/plain": [
       "[[2, 8, 3, 5, 9, 4, 7, 1, 6],\n",
       " [1, 9, 5, 3, 6, 7, 4, 2, 8],\n",
       " [7, 6, 4, 1, 2, 8, 3, 5, 9],\n",
       " [9, 3, 6, 4, 5, 1, 2, 8, 7],\n",
       " [4, 1, 7, 8, 3, 2, 6, 9, 5],\n",
       " [8, 5, 2, 6, 7, 9, 1, 4, 3],\n",
       " [3, 2, 8, 9, 1, 6, 5, 7, 4],\n",
       " [5, 4, 1, 7, 8, 3, 9, 6, 2],\n",
       " [6, 7, 9, 2, 4, 5, 8, 3, 1]]"
      ]
     },
     "execution_count": 1,
     "metadata": {},
     "output_type": "execute_result"
    }
   ],
   "source": [
    "import random\n",
    "\n",
    "def generate_sudoku():\n",
    "    # Initialize empty 9x9 grid\n",
    "    grid = [[0 for _ in range(9)] for _ in range(9)]\n",
    "    \n",
    "    # Helper function to check if a given number can be placed in a cell\n",
    "    def is_valid(row, col, num):\n",
    "        # Check if number is already present in row\n",
    "        if num in grid[row]:\n",
    "            return False\n",
    "        # Check if number is already present in column\n",
    "        if num in [grid[i][col] for i in range(9)]:\n",
    "            return False\n",
    "        # Check if number is already present in 3x3 subgrid\n",
    "        subgrid_row, subgrid_col = 3 * (row // 3), 3 * (col // 3)\n",
    "        for i in range(subgrid_row, subgrid_row + 3):\n",
    "            for j in range(subgrid_col, subgrid_col + 3):\n",
    "                if grid[i][j] == num:\n",
    "                    return False\n",
    "        # If number can be placed in cell, return True\n",
    "        return True\n",
    "    \n",
    "    # Helper function to generate a list of valid numbers for a cell\n",
    "    def valid_numbers(row, col):\n",
    "        candidates = list(range(1, 10))\n",
    "        random.shuffle(candidates)\n",
    "        for num in candidates:\n",
    "            if is_valid(row, col, num):\n",
    "                yield num\n",
    "    \n",
    "    # Fill in grid with valid numbers using backtracking\n",
    "    def fill_grid():\n",
    "        for row in range(9):\n",
    "            for col in range(9):\n",
    "                if grid[row][col] == 0:\n",
    "                    for num in valid_numbers(row, col):\n",
    "                        grid[row][col] = num\n",
    "                        if fill_grid():\n",
    "                            return True\n",
    "                        grid[row][col] = 0\n",
    "                    return False\n",
    "        return True\n",
    "    \n",
    "    # Fill in grid and return result\n",
    "    fill_grid()\n",
    "    return grid\n",
    "\n",
    "generate_sudoku()"
   ]
  },
  {
   "cell_type": "code",
   "execution_count": null,
   "metadata": {},
   "outputs": [],
   "source": [
    "import requests\n",
    "\n",
    "data = {\n",
    "    \"info\": generate_sudoku()\n",
    "}\n",
    "response = requests.post(\"http://127.0.0.1:8000/sudoku\", json=data)\n",
    "response.json()"
   ]
  }
 ],
 "metadata": {
  "kernelspec": {
   "display_name": ".env",
   "language": "python",
   "name": "python3"
  },
  "language_info": {
   "codemirror_mode": {
    "name": "ipython",
    "version": 3
   },
   "file_extension": ".py",
   "mimetype": "text/x-python",
   "name": "python",
   "nbconvert_exporter": "python",
   "pygments_lexer": "ipython3",
   "version": "3.8.10"
  },
  "orig_nbformat": 4
 },
 "nbformat": 4,
 "nbformat_minor": 2
}
